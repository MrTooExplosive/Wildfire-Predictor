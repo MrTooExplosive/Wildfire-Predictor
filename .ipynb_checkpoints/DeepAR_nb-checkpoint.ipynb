{
 "cells": [
  {
   "cell_type": "markdown",
   "id": "a646f2ca",
   "metadata": {},
   "source": [
    "# DeepAR Notes and Questions\n",
    "\n",
    "Do we need to hot encode city? Wouldn't latitude and longitude be better data in terms of percentages of fire within a given location?\n",
    "\n",
    "If cities were given a binary value, wouldn't the predictions be more suscetible to prediciting fires ONLY in the cities that had fires previously, and give a 0 percent prediction on cities that weren't in our training data?\n",
    "\n",
    "But I guess if the user is giving us a location, hot encoding the locations would be better.\n",
    "\n",
    "BUT.... web-services could take the location, web-scrape its latitude and longitude and have them pass those values to us to make a prediction.\n",
    "\n",
    "Just thinking out loud, maybe something we could consider."
   ]
  },
  {
   "cell_type": "markdown",
   "id": "08a1e879",
   "metadata": {},
   "source": [
    "# Setup\n",
    "Importing Sagemaker and setting file parameters. DO NOT RUN THESE UNTIL WE ARE READY TO SEND THIS NOTEBOOK INTO AWS SAGEMAKER!"
   ]
  },
  {
   "cell_type": "code",
   "execution_count": null,
   "id": "a3f557cd",
   "metadata": {},
   "outputs": [],
   "source": [
    "import sagemaker\n",
    "\n",
    "sess = sagemaker.Session()\n",
    "bucket = sess.default_bucket()\n",
    "prefix = \"sagemaker/Wildfire-DeepAR\"  # change to your desired S3 prefix\n",
    "region = sess.boto_region_name\n",
    "\n",
    "role = sagemaker.get_execution_role()"
   ]
  },
  {
   "cell_type": "markdown",
   "id": "69507ea8",
   "metadata": {},
   "source": [
    "Import Necessary Files and packages"
   ]
  },
  {
   "cell_type": "code",
   "execution_count": null,
   "id": "83c1f717",
   "metadata": {},
   "outputs": [],
   "source": [
    "import boto3\n",
    "import io\n",
    "import json\n",
    "import time\n",
    "\n",
    "from IPython.display import Markdown, display\n",
    "import matplotlib.pyplot as plt\n",
    "import pandas as pd\n",
    "\n",
    "import s3fs"
   ]
  },
  {
   "cell_type": "markdown",
   "id": "96816fb5",
   "metadata": {},
   "source": [
    "# Setting Up Data"
   ]
  },
  {
   "cell_type": "code",
   "execution_count": 1,
   "id": "cad61584",
   "metadata": {},
   "outputs": [],
   "source": [
    "# Download the cleaned CSV file here\n",
    "# Refer to tutorial for assistance"
   ]
  },
  {
   "cell_type": "code",
   "execution_count": null,
   "id": "c89ca7c9",
   "metadata": {},
   "outputs": [],
   "source": []
  }
 ],
 "metadata": {
  "kernelspec": {
   "display_name": "Python 3 (ipykernel)",
   "language": "python",
   "name": "python3"
  },
  "language_info": {
   "codemirror_mode": {
    "name": "ipython",
    "version": 3
   },
   "file_extension": ".py",
   "mimetype": "text/x-python",
   "name": "python",
   "nbconvert_exporter": "python",
   "pygments_lexer": "ipython3",
   "version": "3.9.12"
  }
 },
 "nbformat": 4,
 "nbformat_minor": 5
}
